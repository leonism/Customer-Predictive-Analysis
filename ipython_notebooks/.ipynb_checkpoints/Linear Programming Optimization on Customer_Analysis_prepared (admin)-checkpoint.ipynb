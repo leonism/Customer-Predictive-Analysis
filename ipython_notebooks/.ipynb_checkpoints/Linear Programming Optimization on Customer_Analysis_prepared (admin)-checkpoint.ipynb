{
 "cells": [
  {
   "cell_type": "markdown",
   "metadata": {},
   "source": [
    "#Linear Programming for Stock Optimization\n"
   ]
  },
  {
   "cell_type": "markdown",
   "metadata": {},
   "source": [
    "In many business applications, prediction is only the starting point. For instance, if we have a model that predicts stocks in different warehouses, we still need to see how to best optimize the transport between the warehouses. This notebook shows how to optimize tranport in a network using linear programming with Pyomo.  \n",
    "\n",
    "We will consider a network of warehouses. Each warehouses has a given stock capacity and a transport cost attached to each available route between warehouses. We wish to satisfy the demands in each target warehouses."
   ]
  },
  {
   "cell_type": "markdown",
   "metadata": {},
   "source": [
    "***"
   ]
  },
  {
   "cell_type": "markdown",
   "metadata": {},
   "source": [
    "## Setup and dataset loading  \n",
    "First of all, let's load the libraries that we'll use.\n",
    "\n",
    "**This notebook requires the installation of the [pyOmo](https://pyomo.readthedocs.io/en/latest/) package.** [See here for help with intalling python packages.](https://www.dataiku.com/learn/guide/code/python/install-python-packages.html)\n",
    "\n",
    "**You should also check that an optimization solver (glpk for example) is alreayd installed.**"
   ]
  },
  {
   "cell_type": "code",
   "execution_count": 1,
   "metadata": {},
   "outputs": [
    {
     "name": "stdout",
     "output_type": "stream",
     "text": [
      "Populating the interactive namespace from numpy and matplotlib\n"
     ]
    },
    {
     "ename": "ImportError",
     "evalue": "No module named pyomo.environ",
     "output_type": "error",
     "traceback": [
      "\u001b[0;31m\u001b[0m",
      "\u001b[0;31mImportError\u001b[0mTraceback (most recent call last)",
      "\u001b[0;32m<ipython-input-1-3616076a4551>\u001b[0m in \u001b[0;36m<module>\u001b[0;34m()\u001b[0m\n\u001b[1;32m      6\u001b[0m \u001b[0;32mimport\u001b[0m \u001b[0mpandas\u001b[0m \u001b[0;32mas\u001b[0m \u001b[0mpd\u001b[0m\u001b[0;34m\u001b[0m\u001b[0m\n\u001b[1;32m      7\u001b[0m \u001b[0;34m\u001b[0m\u001b[0m\n\u001b[0;32m----> 8\u001b[0;31m \u001b[0;32mfrom\u001b[0m \u001b[0mpyomo\u001b[0m\u001b[0;34m.\u001b[0m\u001b[0menviron\u001b[0m \u001b[0;32mimport\u001b[0m \u001b[0;34m*\u001b[0m\u001b[0;34m\u001b[0m\u001b[0m\n\u001b[0m",
      "\u001b[0;31mImportError\u001b[0m: No module named pyomo.environ"
     ]
    }
   ],
   "source": [
    "%pylab inline\n",
    "import warnings \n",
    "warnings.filterwarnings(\"ignore\",category=DeprecationWarning) # Disable some warnings\n",
    "import dataiku\n",
    "from dataiku import pandasutils as pdu\n",
    "import pandas as pd\n",
    "\n",
    "from pyomo.environ import *"
   ]
  },
  {
   "cell_type": "code",
   "execution_count": null,
   "metadata": {},
   "outputs": [],
   "source": [
    "dataset_limit = 10000\n",
    "\n",
    "#PUT YOUR DATASET NAME HERE \n",
    "mydataset = dataiku.Dataset(\"Customer_Analysis_prepared\")\n",
    "df = mydataset.get_dataframe(limit = dataset_limit)"
   ]
  },
  {
   "cell_type": "markdown",
   "metadata": {},
   "source": [
    "Here we need to precise the structure of the network. We have edges of two types: source warehouses (*source_warehouse*) and target warehouses (*target_warehouse*), and vertices are weighted by the transport cost (*transport_cost*) between two warehouses. We also need the capacity at each warehouse (*capacity_warehouse*) as well as its demand (*demand_warehouse*)."
   ]
  },
  {
   "cell_type": "code",
   "execution_count": null,
   "metadata": {},
   "outputs": [],
   "source": [
    "#Below enter the name of the corresponding features\n",
    "source_warehouse = ''\n",
    "target_warehouse = ''\n",
    "transport_cost = ''\n",
    "capacity_warehouse = ''\n",
    "demand_warehouse = ''"
   ]
  },
  {
   "cell_type": "markdown",
   "metadata": {},
   "source": [
    "***"
   ]
  },
  {
   "cell_type": "markdown",
   "metadata": {},
   "source": [
    "## Model Formulation\n",
    "\n",
    "A Linear Programming problem aims at finding the minimum of a **linear objective function** subject to a set of **linear constraints** on some **variables**.  \n",
    "\n",
    "Here we wish to minimise the overall cost of transport with **three constraints**:\n",
    "    \n",
    "    1) The transported quantities must be non-negative. \n",
    "    2) A source warehouse cannot ship more than what it contains. \n",
    "    3) We need to satisfy demands in our target warehouses.   \n",
    "\n",
    "Let's make this more concrete by using pyomo's module API. We'll start by instantiating a **ConcreteModel**."
   ]
  },
  {
   "cell_type": "code",
   "execution_count": null,
   "metadata": {},
   "outputs": [],
   "source": [
    "model = ConcreteModel()"
   ]
  },
  {
   "cell_type": "markdown",
   "metadata": {},
   "source": [
    "Pyomo supports an object-oriented design for the definition of optimization models. A Pyomo model object contains a collection of modeling components that define the optimization problem.These modeling components are defined in Pyomo through the following Python classes:\n",
    "\n",
    "* **Var**: optimization variables in a model.\n",
    "* **Objective**: functions that are minimized or maximized in a model.\n",
    "* **Constraint**: constraint equations in a model.\n",
    "* **Set**: set data that is used to define a model instance.\n",
    "* **Param**: parameter data that is used to formulate a constraint or objective.\n",
    "\n",
    "We will start by instantiating the variables and then use them in the constraint equations and objective function."
   ]
  },
  {
   "cell_type": "markdown",
   "metadata": {},
   "source": [
    "### Warehouse Index Sets  \n",
    "We define two index sets with *Set()*: **S** for the set of source warehouses and **T** for the target warehouses. "
   ]
  },
  {
   "cell_type": "code",
   "execution_count": null,
   "metadata": {},
   "outputs": [],
   "source": [
    "model.s = Set(initialize=list(df[source_warehouse].unique()))\n",
    "model.t = Set(initialize=list(df[target_warehouse].unique()))"
   ]
  },
  {
   "cell_type": "markdown",
   "metadata": {},
   "source": [
    "### Quantity Variables  \n",
    "We denote by $x_{S,T}$ the desired quantity variable of goods that needs to be shipped from source warehouse **S** to target warehouse **T**. Note that we only consider non-negative quantities and so we add a lower bound to the variable."
   ]
  },
  {
   "cell_type": "code",
   "execution_count": null,
   "metadata": {},
   "outputs": [],
   "source": [
    "model.x = Var(model.s, model.t, bounds=(0.0,None))"
   ]
  },
  {
   "cell_type": "markdown",
   "metadata": {},
   "source": [
    "### Capacity and Demand Variables  \n",
    "Each source warehouses has a capacity $a_S$ and each target warehouse a demand $b_T$ which are encoded in the two dictionnaries below. We can then define the two corresponding model parameters for our model."
   ]
  },
  {
   "cell_type": "code",
   "execution_count": null,
   "metadata": {},
   "outputs": [],
   "source": [
    "dict_a = dict(zip(df[source_warehouse], df[capacity_warehouse]))\n",
    "dict_b = dict(zip(df[target_warehouse], df[demand_warehouse]))\n",
    "\n",
    "model.a = Param(model.s, initialize=dict_a)\n",
    "model.b = Param(model.t, initialize=dict_b)"
   ]
  },
  {
   "cell_type": "markdown",
   "metadata": {},
   "source": [
    "### Cost Variables  \n",
    "For a pair of *(source warehouse, target warehouse)*, we have an associated cost of transport per unit of goods. \n",
    "\n",
    "We first get its corresponding dictionary from our dataframe with:"
   ]
  },
  {
   "cell_type": "code",
   "execution_count": null,
   "metadata": {},
   "outputs": [],
   "source": [
    "source_target_cost = {}\n",
    "for index, row in df.iterrows():\n",
    "    source_target_cost[row[source_warehouse], row[target_warehouse]] = row[transport_cost]"
   ]
  },
  {
   "cell_type": "markdown",
   "metadata": {},
   "source": [
    "We can know define its corresponding parameter in our model."
   ]
  },
  {
   "cell_type": "code",
   "execution_count": null,
   "metadata": {},
   "outputs": [],
   "source": [
    "model.c = Param(model.s, model.t, initialize=source_target_cost)"
   ]
  },
  {
   "cell_type": "markdown",
   "metadata": {},
   "source": [
    "### Objective Function  \n",
    "Every optimisation problem  requires an objective function. Here we'll consider the linear function of total cost (so that we effectively have to solve a Linear Optimisation problem) defined as follows. Our objective is to minimise this cost."
   ]
  },
  {
   "cell_type": "code",
   "execution_count": null,
   "metadata": {},
   "outputs": [],
   "source": [
    "def objective_rule(model):\n",
    "    return sum(model.c[s,t]*model.x[s,t] for s in model.s for t in model.t if (s,t) in model.c.keys())"
   ]
  },
  {
   "cell_type": "code",
   "execution_count": null,
   "metadata": {},
   "outputs": [],
   "source": [
    "model.objective = Objective(rule=objective_rule, sense=minimize)"
   ]
  },
  {
   "cell_type": "markdown",
   "metadata": {},
   "source": [
    "### Constraints  \n",
    "The above objective is subject to the following constraints: \n",
    "* The sum of all the quantities leaving a source warehouse cannot exceed its capacity.\n",
    "* The sum of all the quantities arriving at a target warehouse should be at least its demand. "
   ]
  },
  {
   "cell_type": "code",
   "execution_count": null,
   "metadata": {},
   "outputs": [],
   "source": [
    "def supply_rule(model, s):\n",
    "    return sum(model.x[s,t] for t in model.t) <= model.a[s]\n",
    "\n",
    "def demand_rule(model, t):\n",
    "    return sum(model.x[s,t] for s in model.s) >= model.b[t]  \n"
   ]
  },
  {
   "cell_type": "code",
   "execution_count": null,
   "metadata": {},
   "outputs": [],
   "source": [
    "model.supply = Constraint(model.s, rule=supply_rule)\n",
    "model.demand = Constraint(model.t, rule=demand_rule)"
   ]
  },
  {
   "cell_type": "markdown",
   "metadata": {},
   "source": [
    "***"
   ]
  },
  {
   "cell_type": "markdown",
   "metadata": {},
   "source": [
    "## Running the Optimization  \n",
    "Now that our model has been well specified and declared as a linear optimisation problem, we can try to solve it. Here we used the [glpk solver](https://www.gnu.org/software/glpk/)."
   ]
  },
  {
   "cell_type": "code",
   "execution_count": null,
   "metadata": {},
   "outputs": [],
   "source": [
    "from pyomo.opt import SolverFactory\n",
    "opt = SolverFactory(\"glpk\")\n",
    "results = opt.solve(model)"
   ]
  },
  {
   "cell_type": "markdown",
   "metadata": {},
   "source": [
    "## Results  \n",
    "We can know check the run of our optimization:"
   ]
  },
  {
   "cell_type": "code",
   "execution_count": null,
   "metadata": {},
   "outputs": [],
   "source": [
    "results.write_json()"
   ]
  },
  {
   "cell_type": "markdown",
   "metadata": {},
   "source": [
    "Finally, we can check the optimal (if it exists) vector of quantities between warehouses."
   ]
  },
  {
   "cell_type": "code",
   "execution_count": null,
   "metadata": {},
   "outputs": [],
   "source": [
    "dict_optim = model.x.extract_values()"
   ]
  },
  {
   "cell_type": "markdown",
   "metadata": {},
   "source": [
    "Better yet, we will add the found optimal transport values to our initial dataframe."
   ]
  },
  {
   "cell_type": "code",
   "execution_count": null,
   "metadata": {},
   "outputs": [],
   "source": [
    "source,target = zip(*dict_optim)\n",
    "optim_values = [dict_optim[source[i], target[i]] for i in xrange(len(dict_optim))]\n",
    "\n",
    "model_output = pd.DataFrame({source_warehouse: source, target_warehouse: target, 'optim_values' : optim_values})\n",
    "model_output.head()"
   ]
  },
  {
   "cell_type": "markdown",
   "metadata": {},
   "source": [
    "We then have to merge this with the original dataframe."
   ]
  },
  {
   "cell_type": "code",
   "execution_count": null,
   "metadata": {},
   "outputs": [],
   "source": [
    "doptim_= pd.merge(df, model_output, on=[source_warehouse,target_warehouse], how='inner')\n",
    "doptim_.head()"
   ]
  }
 ],
 "metadata": {
  "analyzedDataset": "Customer_Analysis_prepared",
  "creator": "admin",
  "customFields": {},
  "kernelspec": {
   "display_name": "Python 2",
   "language": "python",
   "name": "python2"
  },
  "language_info": {
   "codemirror_mode": {
    "name": "ipython",
    "version": 2
   },
   "file_extension": ".py",
   "mimetype": "text/x-python",
   "name": "python",
   "nbconvert_exporter": "python",
   "pygments_lexer": "ipython2",
   "version": "2.7.16"
  },
  "tags": [],
  "toc": {
   "base_numbering": 1,
   "nav_menu": {},
   "number_sections": true,
   "sideBar": true,
   "skip_h1_title": false,
   "title_cell": "Table of Contents",
   "title_sidebar": "Contents",
   "toc_cell": false,
   "toc_position": {},
   "toc_section_display": true,
   "toc_window_display": false
  }
 },
 "nbformat": 4,
 "nbformat_minor": 1
}
